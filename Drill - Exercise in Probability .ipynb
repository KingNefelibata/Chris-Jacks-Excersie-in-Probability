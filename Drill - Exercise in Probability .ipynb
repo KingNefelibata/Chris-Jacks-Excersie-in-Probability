{
 "cells": [
  {
   "cell_type": "code",
   "execution_count": 5,
   "metadata": {},
   "outputs": [],
   "source": [
    "import pandas as pd\n",
    "import numpy as np \n",
    "import matplotlib.pyplot as plt\n",
    "%matplotlib inline"
   ]
  },
  {
   "cell_type": "markdown",
   "metadata": {},
   "source": [
    "Q1. Calculate the probability of flipping a balanced coin four times and getting each pattern: HTTH, HHHH and TTHH."
   ]
  },
  {
   "cell_type": "code",
   "execution_count": 34,
   "metadata": {},
   "outputs": [
    {
     "name": "stdout",
     "output_type": "stream",
     "text": [
      "The Proabablility of HTTH is 6.25%\n",
      "The Proabablility of HHHH is 6.25%\n",
      "The Proabablility of TTHH is 6.25%\n"
     ]
    }
   ],
   "source": [
    "H = .5\n",
    "T = .5\n",
    "print(\"The Proabablility of HTTH is {}%\".format((H*T*T*H)*100))\n",
    "print(\"The Proabablility of HHHH is {}%\".format((H*H*H*H)*100))\n",
    "print(\"The Proabablility of TTHH is {}%\".format((T*T*H*H)*100))"
   ]
  },
  {
   "cell_type": "markdown",
   "metadata": {},
   "source": [
    "Q2. If a list of people has 24 women and 21 men, then the probability of choosing a man from the list is 21/45. What is the probability of not choosing a man?"
   ]
  },
  {
   "cell_type": "code",
   "execution_count": 26,
   "metadata": {},
   "outputs": [
    {
     "name": "stdout",
     "output_type": "stream",
     "text": [
      "The probability of picking a man is 46%\n",
      "The probability of picking a woman is 53%\n"
     ]
    }
   ],
   "source": [
    "p_man = (21/45)\n",
    "p_woman = (1-p_man)\n",
    "\n",
    "print(\"The probability of picking a man is {}%\".format(int(p_man*100)))\n",
    "print(\"The probability of picking a woman is {}%\".format(int(p_woman*100)))"
   ]
  },
  {
   "cell_type": "markdown",
   "metadata": {},
   "source": [
    "Q3. The probability that Bernice will travel by plane sometime in the next year is 10%. The probability of a plane crash at any time is .005%. What is the probability that Bernice will be in a plane crash sometime in the next year?"
   ]
  },
  {
   "cell_type": "code",
   "execution_count": 52,
   "metadata": {},
   "outputs": [
    {
     "name": "stdout",
     "output_type": "stream",
     "text": [
      "The proabability of Bernice dying in a plane crash is 2.5e-10\n"
     ]
    }
   ],
   "source": [
    "p_plane = .1\n",
    "p_crash = .00005\n",
    "p_planecrash = p_crash * (p_plane * p_crash)\n",
    "\n",
    "print(\"The proabability of Bernice dying in a plane crash is {}\".format(p_planecrash))"
   ]
  },
  {
   "cell_type": "markdown",
   "metadata": {},
   "source": [
    "Q4. A data scientist wants to study the behavior of users on the company website. Each time a user clicks on a link on the website, there is a 5% chance that the user will be asked to complete a short survey about their behavior on the website. The data scientist uses the survey data to conclude that, on average, users spend 15 minutes surfing the company website before moving on to other things. What is wrong with this conclusion?"
   ]
  },
  {
   "cell_type": "markdown",
   "metadata": {},
   "source": [
    "The surveys only sample people whose website surfing experince was interupted by the survey. Therefore Strong users of the site are more likely to come across the survey as they spend more time clicking through links. Therefore the results would be slighty inflated by sampling your strongest users. "
   ]
  },
  {
   "cell_type": "code",
   "execution_count": null,
   "metadata": {
    "collapsed": true
   },
   "outputs": [],
   "source": []
  }
 ],
 "metadata": {
  "kernelspec": {
   "display_name": "Python 3",
   "language": "python",
   "name": "python3"
  },
  "language_info": {
   "codemirror_mode": {
    "name": "ipython",
    "version": 3
   },
   "file_extension": ".py",
   "mimetype": "text/x-python",
   "name": "python",
   "nbconvert_exporter": "python",
   "pygments_lexer": "ipython3",
   "version": "3.6.1"
  }
 },
 "nbformat": 4,
 "nbformat_minor": 2
}
